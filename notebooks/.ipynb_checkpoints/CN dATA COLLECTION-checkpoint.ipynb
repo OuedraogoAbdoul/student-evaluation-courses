{
 "cells": [
  {
   "cell_type": "code",
   "execution_count": null,
   "metadata": {},
   "outputs": [],
   "source": [
    "from piazza_api.rpc import PiazzaRPC\n",
    "import pandas as pd\n",
    "import json\n",
    "import re\n",
    "import os\n",
    "from html2text import HTML2Text\n",
    "from html2text import HTML2Text\n",
    "from piazza_api import Piazza\n",
    "import json\n",
    "import re\n",
    "import os\n",
    "from html2text import HTML2Text\n",
    "from piazza_api import Piazza\n",
    "\n",
    "HTML_2_TEXT = HTML2Text()\n",
    "HTML_2_TEXT.ignore_links = True\n",
    "import time\n"
   ]
  },
  {
   "cell_type": "code",
   "execution_count": null,
   "metadata": {},
   "outputs": [],
   "source": [
    "# instructors = {\"\":\"Gardner, Benjamin Joseph\", \"\", \"Matthew Gordon McKinzie\", \"jl2r7x4fZCA8\":\"Aja Woolworth\", \"\":\"Maria Konte\", \"\":\"Willy Nolan\", \"\":\"David Kim\", \"\":\"Jeffrey Randow\", \"\":\"matt kalita sr\", \"\":\"Max Umland\", \"\":\"Cody Tessler\", \"\":\"Kevin\", \"jc2nyihn8CRW\":\"James Lohse\", \"\":\"Ken Westdorp\", \"\":\"Sahil Dhingra\", \"\":\"Jared Scott\", \"\":\"Lorena Lara Montesinos\", \"\":\"Minh Jennifer Van\", \"\":\"Swetha Mandala\", \"\":\"Vaishnavi Anupindi\", \"\":\"Johann Lau\", \"\":\"Vivek Verma\", \"\":\"Damodara Venkat Gadidasu\"}"
   ]
  },
  {
   "cell_type": "code",
   "execution_count": null,
   "metadata": {},
   "outputs": [],
   "source": []
  },
  {
   "cell_type": "code",
   "execution_count": null,
   "metadata": {
    "scrolled": false
   },
   "outputs": [],
   "source": [
    "\n",
    "def get_posts(nid, cid):\n",
    "\n",
    "    HTML_2_TEXT = HTML2Text()\n",
    "    HTML_2_TEXT.ignore_links = True\n",
    "\n",
    "    EMAIL = None\n",
    "    PASSWORD = None\n",
    "\n",
    "    if os.path.exists('credentials.json'):\n",
    "        with open('credentials.json') as f:\n",
    "            credentials = json.load(f)\n",
    "            EMAIL = credentials.get('email', None)\n",
    "            PASSWORD = credentials.get('password', None)\n",
    "\n",
    "\n",
    "    p = PiazzaRPC(nid)\n",
    "    p.user_login(email=EMAIL, password=PASSWORD)\n",
    "\n",
    "    return p.content_get(cid)"
   ]
  },
  {
   "cell_type": "code",
   "execution_count": null,
   "metadata": {},
   "outputs": [],
   "source": []
  },
  {
   "cell_type": "code",
   "execution_count": null,
   "metadata": {},
   "outputs": [],
   "source": []
  },
  {
   "cell_type": "code",
   "execution_count": null,
   "metadata": {},
   "outputs": [],
   "source": [
    "# df.history[0].keys()"
   ]
  },
  {
   "cell_type": "code",
   "execution_count": null,
   "metadata": {},
   "outputs": [],
   "source": [
    "# columns_name = ['anon', 'uid', 'subject', 'created', 'content', \"anon_ch\",\"subject_ch\", \"created_ch\", \"bucket_order_ch\", \"bucket_name_ch\", \"type_ch\", \"uid_a_ch\", \"uid_ch\", \"id_ch\", \"updated_ch\", \"config_ch\"]"
   ]
  },
  {
   "cell_type": "code",
   "execution_count": null,
   "metadata": {},
   "outputs": [],
   "source": []
  },
  {
   "cell_type": "code",
   "execution_count": null,
   "metadata": {},
   "outputs": [],
   "source": []
  },
  {
   "cell_type": "code",
   "execution_count": null,
   "metadata": {
    "scrolled": false
   },
   "outputs": [],
   "source": [
    "def compute_list(data_frame, list_po):\n",
    "    \n",
    "    for items in data_frame[\"children\"]:\n",
    "        if(isinstance(items, dict)):\n",
    "            if(\"history\" not in items.keys()):\n",
    "#             print(items.keys())\n",
    "                store_to_list = items[\"anon\"], items[\"subject\"], items[\"created\"],items[\"bucket_order\"],items[\"bucket_name\"], items[\"type\"], items.get(\"uid_a\", None), items.get(\"uid\", None), items[\"id\"], items[\"updated\"],items[\"config\"]\n",
    "                list_po.append(list(store_to_list))\n",
    "                if(len(items[\"children\"])):\n",
    "        #             print(\"children not empty@@@@@@@@@@@@@@\")\n",
    "                    if(isinstance(items, dict)):\n",
    "                        if(len(items[\"children\"]) > 1):\n",
    "                            for item_list in items[\"children\"]:\n",
    "    #                             print(\"debug\")\n",
    "                                store_to_list = item_list[\"anon\"], item_list[\"subject\"], item_list[\"created\"], item_list[\"bucket_order\"], item_list[\"bucket_name\"], item_list[\"type\"], item_list.get(\"uid_a\", None), item_list.get(\"uid\", None), item_list[\"id\"], item_list[\"updated\"], item_list[\"config\"]\n",
    "                                list_po.append(list(store_to_list))\n",
    "\n",
    "        #                         print(\"\\n6666666666\")\n",
    "                        else:\n",
    "        #                     \n",
    "                            store_to_list =  items[\"children\"][0][\"anon\"], items[\"children\"][0][\"subject\"], items[\"children\"][0][\"created\"], items[\"children\"][0][\"bucket_order\"], items[\"children\"][0][\"bucket_name\"], items[\"children\"][0][\"type\"], items[\"children\"][0].get(\"uid_a\", None), items[\"children\"][0].get(\"uid\", None), items[\"children\"][0][\"id\"], items[\"children\"][0][\"updated\"], items[\"children\"][0][\"config\"]\n",
    "                            list_po.append(list(store_to_list))\n",
    "                    else:\n",
    "        #                 print(\"no dictionry!!!!!!!!!!!!!!!!!\", items[\"children\"])\n",
    "                        continue\n",
    "                else:\n",
    "        #             print(\"children is empty\", items[\"children\"])\n",
    "                    continue\n",
    "            else:\n",
    "#                 print(\"To do if there is history\")\n",
    "#                 print(items[\"history\"][0].keys())\n",
    "                continue\n",
    "        else:\n",
    "    #         print(\"no dictionry\")\n",
    "            continue\n",
    "\n",
    "#         print(\"\\n\\n\")\n",
    "    #     break\n",
    "    return data_frame, list_po"
   ]
  },
  {
   "cell_type": "code",
   "execution_count": null,
   "metadata": {},
   "outputs": [],
   "source": []
  },
  {
   "cell_type": "code",
   "execution_count": null,
   "metadata": {},
   "outputs": [],
   "source": [
    "columns_name = [\"anon_ch\",\"subject_ch\", \"created_ch\", \"bucket_order_ch\", \"bucket_name_ch\", \"type_ch\", \"uid_a_ch\", \"uid_ch\", \"id_ch\", \"updated_ch\", \"config_ch\"]"
   ]
  },
  {
   "cell_type": "code",
   "execution_count": null,
   "metadata": {},
   "outputs": [],
   "source": []
  },
  {
   "cell_type": "code",
   "execution_count": null,
   "metadata": {},
   "outputs": [],
   "source": [
    "def get_assignemnet(post_temp):\n",
    "    if(not isinstance(post_temp[\"folders\"], str)):\n",
    "        return \" \".join(post_temp[\"folders\"])\n",
    "        \n",
    "    return post_temp[\"folders\"]"
   ]
  },
  {
   "cell_type": "code",
   "execution_count": null,
   "metadata": {},
   "outputs": [],
   "source": []
  },
  {
   "cell_type": "code",
   "execution_count": null,
   "metadata": {
    "scrolled": false
   },
   "outputs": [],
   "source": [
    "def compute_dataframe(temp_list, cids_list_values):\n",
    "    \n",
    "    for cids in cids_list_values:\n",
    "        time.sleep(2)\n",
    "        posts = get_posts(\"k9bp5aspp754kb\", cids)\n",
    "        assignment = get_assignemnet(posts)\n",
    "        df = pd.DataFrame(dict([ (k,pd.Series(v)) for k,v in posts.items() ]));\n",
    "        df, temp_list = compute_list(df, temp_list)\n",
    "        \n",
    "    temp_df = pd.DataFrame(columns=columns_name, data=temp_list)\n",
    "    temp_df[str(assignment)] = assignment\n",
    "    return temp_df, temp_list"
   ]
  },
  {
   "cell_type": "code",
   "execution_count": null,
   "metadata": {},
   "outputs": [],
   "source": []
  },
  {
   "cell_type": "markdown",
   "metadata": {},
   "source": [
    "# CN Proj1"
   ]
  },
  {
   "cell_type": "code",
   "execution_count": null,
   "metadata": {},
   "outputs": [],
   "source": [
    "list_cid = [114, 66]\n",
    "# list_cid = [114, 66, 32, 29, 26, 256, 180, 131, 128, 260, 211, 185, 177, 173, 167, 163, 146, 140, 137, 134, 133, 127, 124, 123, 109, 108, 103, 87, 84, 81, 80, 73, 61, 58, 53, 49, 31, 28, 27]"
   ]
  },
  {
   "cell_type": "code",
   "execution_count": null,
   "metadata": {},
   "outputs": [],
   "source": [
    "proj1_List_of_post = []"
   ]
  },
  {
   "cell_type": "markdown",
   "metadata": {},
   "source": [
    "df_final_proj1, List_of_post = compute_dataframe(\"proj1\", List_of_post, list_cid);"
   ]
  },
  {
   "cell_type": "code",
   "execution_count": null,
   "metadata": {},
   "outputs": [],
   "source": [
    "df_final_proj1, proj1_List_of_post = compute_dataframe(proj1_List_of_post, list_cid);"
   ]
  },
  {
   "cell_type": "code",
   "execution_count": null,
   "metadata": {
    "scrolled": false
   },
   "outputs": [],
   "source": [
    "df_final_proj1.shape"
   ]
  },
  {
   "cell_type": "code",
   "execution_count": null,
   "metadata": {},
   "outputs": [],
   "source": [
    "df_final_proj1.sample(2)"
   ]
  },
  {
   "cell_type": "markdown",
   "metadata": {},
   "source": [
    "# CN Proj2"
   ]
  },
  {
   "cell_type": "code",
   "execution_count": null,
   "metadata": {},
   "outputs": [],
   "source": [
    "# # proj2_list_cid = []`\n",
    "# proj2_list_cid = [215, 114, 25, 24, 23, 345, 283, 234, 217, 171, 145, 112, 102, 89, 83, 81, 31, 22, 21,20, 19]"
   ]
  },
  {
   "cell_type": "code",
   "execution_count": null,
   "metadata": {},
   "outputs": [],
   "source": [
    "# proj2_List_of_post = []"
   ]
  },
  {
   "cell_type": "code",
   "execution_count": null,
   "metadata": {},
   "outputs": [],
   "source": [
    "# df_final_proj2, proj2_List_of_post = compute_dataframe(\"proj2\", proj2_List_of_post, proj2_list_cid);"
   ]
  },
  {
   "cell_type": "code",
   "execution_count": null,
   "metadata": {},
   "outputs": [],
   "source": [
    "# df_final_proj2.shape"
   ]
  },
  {
   "cell_type": "code",
   "execution_count": null,
   "metadata": {
    "scrolled": true
   },
   "outputs": [],
   "source": []
  },
  {
   "cell_type": "code",
   "execution_count": null,
   "metadata": {},
   "outputs": [],
   "source": [
    "df_final_proj2.sample(2)"
   ]
  },
  {
   "cell_type": "markdown",
   "metadata": {},
   "source": [
    "# CN Proj3"
   ]
  },
  {
   "cell_type": "code",
   "execution_count": null,
   "metadata": {},
   "outputs": [],
   "source": [
    "# proj3_list_cid = []\n",
    "proj3_list_cid = [235,230, 229, 228, 442, 354, 353, 338, 337, 334, 333, 332, 322, 322, 320, 318, 315, 314, 313, 311, 296, 286, 276, 249, 237,232, 227, 226]"
   ]
  },
  {
   "cell_type": "code",
   "execution_count": null,
   "metadata": {},
   "outputs": [],
   "source": [
    "proj3_List_of_post = []"
   ]
  },
  {
   "cell_type": "code",
   "execution_count": null,
   "metadata": {},
   "outputs": [],
   "source": [
    "df_final_proj3, proj3_List_of_post = compute_dataframe(\"proj3\",proj3_List_of_post, proj3_list_cid);"
   ]
  },
  {
   "cell_type": "code",
   "execution_count": null,
   "metadata": {},
   "outputs": [],
   "source": [
    "df_final_proj3.shape"
   ]
  },
  {
   "cell_type": "markdown",
   "metadata": {},
   "source": [
    "# CN Proj4"
   ]
  },
  {
   "cell_type": "code",
   "execution_count": null,
   "metadata": {},
   "outputs": [],
   "source": [
    "# proj3_list_cid = []\n",
    "proj4_list_cid = [490, 381, 380, 801, 714, 675, 583, 569, 564, 561, 560, 559, 556, 555,554, 551, 548, 547, 546, 545, 544, 538, 534, 532, 531, 529, 528, 523, 521, 519, 515, 513, 508, 507, 506, 505, 504, 501, 497, 491, 486, 484, 482, 480, 479,472, 437, 398, 382, 369]"
   ]
  },
  {
   "cell_type": "code",
   "execution_count": null,
   "metadata": {},
   "outputs": [],
   "source": [
    "proj4_List_of_post = []"
   ]
  },
  {
   "cell_type": "code",
   "execution_count": null,
   "metadata": {},
   "outputs": [],
   "source": [
    "df_final_proj4, proj4_List_of_post = compute_dataframe(\"proj4\", proj4_List_of_post,proj4_list_cid);"
   ]
  },
  {
   "cell_type": "code",
   "execution_count": null,
   "metadata": {},
   "outputs": [],
   "source": [
    "df_final_proj4.shape"
   ]
  },
  {
   "cell_type": "code",
   "execution_count": null,
   "metadata": {},
   "outputs": [],
   "source": [
    "df_final_proj4.sample(2)"
   ]
  },
  {
   "cell_type": "code",
   "execution_count": null,
   "metadata": {},
   "outputs": [],
   "source": []
  },
  {
   "cell_type": "markdown",
   "metadata": {},
   "source": [
    "# CN Proj5"
   ]
  },
  {
   "cell_type": "code",
   "execution_count": null,
   "metadata": {},
   "outputs": [],
   "source": [
    "# proj3_list_cid = []\n",
    "proj5_list_cid = [669, 654, 590, 867, 844, 829, 828, 818, 814, 809, 807, 802, 799, 795, 792, 789, 788, 787, 786, 785, 784, 782, 769, 764, 760, 749, 748, 741, 734, 732, 730, 715, 711, 708, 707, 701, 700, 696, 690, 687, 686, 685, 684, 683, 681, 680, 676, 674, 673, 668, 666,665, 664, 657, 655, 653, 652, 650, 645, 644, 642, 641, 638, 637, 634, 632, 631, 629, 622, 621, 614, 612, 610, 607, 606, 603, 602, 600, 559, 596, 585, 577, 572, 567,579, 510]"
   ]
  },
  {
   "cell_type": "code",
   "execution_count": null,
   "metadata": {},
   "outputs": [],
   "source": [
    "proj5_List_of_post = []"
   ]
  },
  {
   "cell_type": "code",
   "execution_count": null,
   "metadata": {},
   "outputs": [],
   "source": [
    "df_final_proj5, proj5_List_of_post = compute_dataframe(\"proj5\", proj5_List_of_post,proj5_list_cid);"
   ]
  },
  {
   "cell_type": "code",
   "execution_count": null,
   "metadata": {},
   "outputs": [],
   "source": [
    "df_final_proj5.shape"
   ]
  },
  {
   "cell_type": "code",
   "execution_count": null,
   "metadata": {},
   "outputs": [],
   "source": [
    "df_final_proj5.sample(3)"
   ]
  },
  {
   "cell_type": "code",
   "execution_count": null,
   "metadata": {},
   "outputs": [],
   "source": []
  },
  {
   "cell_type": "code",
   "execution_count": null,
   "metadata": {},
   "outputs": [],
   "source": []
  },
  {
   "cell_type": "code",
   "execution_count": null,
   "metadata": {},
   "outputs": [],
   "source": []
  },
  {
   "cell_type": "code",
   "execution_count": null,
   "metadata": {},
   "outputs": [],
   "source": []
  },
  {
   "cell_type": "code",
   "execution_count": null,
   "metadata": {},
   "outputs": [],
   "source": []
  }
 ],
 "metadata": {
  "kernelspec": {
   "display_name": "Python 3",
   "language": "python",
   "name": "python3"
  },
  "language_info": {
   "codemirror_mode": {
    "name": "ipython",
    "version": 3
   },
   "file_extension": ".py",
   "mimetype": "text/x-python",
   "name": "python",
   "nbconvert_exporter": "python",
   "pygments_lexer": "ipython3",
   "version": "3.8.3"
  }
 },
 "nbformat": 4,
 "nbformat_minor": 4
}
