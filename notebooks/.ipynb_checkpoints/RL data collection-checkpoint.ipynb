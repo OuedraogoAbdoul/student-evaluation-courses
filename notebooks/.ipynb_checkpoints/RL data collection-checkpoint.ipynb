{
 "cells": [
  {
   "cell_type": "markdown",
   "metadata": {},
   "source": [
    "## RL data collection"
   ]
  },
  {
   "cell_type": "code",
   "execution_count": 1,
   "metadata": {},
   "outputs": [],
   "source": [
    "from piazza_api.rpc import PiazzaRPC\n",
    "import pandas as pd\n",
    "import json\n",
    "import re\n",
    "import os\n",
    "from html2text import HTML2Text\n",
    "from html2text import HTML2Text\n",
    "from piazza_api import Piazza\n",
    "import json\n",
    "import re\n",
    "import os\n",
    "from html2text import HTML2Text\n",
    "from piazza_api import Piazza\n",
    "\n",
    "HTML_2_TEXT = HTML2Text()\n",
    "HTML_2_TEXT.ignore_links = True\n",
    "import time\n",
    "import numpy as np"
   ]
  },
  {
   "cell_type": "code",
   "execution_count": 2,
   "metadata": {},
   "outputs": [],
   "source": [
    "credential_path = os.path.join(\".\\\\student_evaluation_courses\\\\notebooks\", \"credentials.json\")"
   ]
  },
  {
   "cell_type": "code",
   "execution_count": 3,
   "metadata": {},
   "outputs": [
    {
     "data": {
      "text/plain": [
       "'.\\\\student_evaluation_courses\\\\notebooks\\\\credentials.json'"
      ]
     },
     "execution_count": 3,
     "metadata": {},
     "output_type": "execute_result"
    }
   ],
   "source": [
    "credential_path"
   ]
  },
  {
   "cell_type": "code",
   "execution_count": 4,
   "metadata": {},
   "outputs": [],
   "source": [
    "\n",
    "def get_posts(nid, cid):\n",
    "\n",
    "    HTML_2_TEXT = HTML2Text()\n",
    "    HTML_2_TEXT.ignore_links = True\n",
    "\n",
    "    EMAIL = None\n",
    "    PASSWORD = None\n",
    "\n",
    "    if os.path.exists('credentials.json'):\n",
    "        with open('credentials.json') as f:\n",
    "            credentials = json.load(f)\n",
    "            EMAIL = credentials.get('email', None)\n",
    "            PASSWORD = credentials.get('password', None)\n",
    "\n",
    "\n",
    "    p = PiazzaRPC(nid)\n",
    "    p.user_login(email=EMAIL, password=PASSWORD)\n",
    "\n",
    "    return p.content_get(cid)"
   ]
  },
  {
   "cell_type": "code",
   "execution_count": 7,
   "metadata": {},
   "outputs": [],
   "source": [
    "def compute_list(data_frame, list_po):\n",
    "    \n",
    "    assign_list = \"\"\n",
    "    try:\n",
    "        assign_list = data_frame[\"folders\"][0]\n",
    "#         print(data_frame[\"folders\"][0])\n",
    "    except:\n",
    "        assign_list = np.nan\n",
    "#         print(np.nan, data_frame[\"folders\"][0])\n",
    "    for items in data_frame[\"children\"]:\n",
    "        try:\n",
    "            \n",
    "            if(isinstance(items, dict)):\n",
    "                if(\"history\" not in items.keys()):\n",
    "    #             print(items.keys())\n",
    "                    store_to_list = items[\"anon\"], items[\"subject\"], items[\"created\"],items[\"bucket_order\"],items[\"bucket_name\"], items[\"type\"], items.get(\"uid_a\", None), items.get(\"uid\", None), items[\"id\"], items[\"updated\"],items[\"config\"], assign_list\n",
    "#                     print(store_to_list)\n",
    "                    list_po.append(list(store_to_list))\n",
    "                    if(len(items[\"children\"])):\n",
    "            #             print(\"children not empty@@@@@@@@@@@@@@\")\n",
    "                        if(isinstance(items, dict)):\n",
    "                            if(len(items[\"children\"]) > 1):\n",
    "                                for item_list in items[\"children\"]:\n",
    "        #                             print(\"debug\")\n",
    "                                    store_to_list = item_list[\"anon\"], item_list[\"subject\"], item_list[\"created\"], item_list[\"bucket_order\"], item_list[\"bucket_name\"], item_list[\"type\"], item_list.get(\"uid_a\", None), item_list.get(\"uid\", None), item_list[\"id\"], item_list[\"updated\"], item_list[\"config\"], assign_list\n",
    "#                                     print(store_to_list)\n",
    "                                    list_po.append(list(store_to_list))\n",
    "\n",
    "            #                         print(\"\\n6666666666\")\n",
    "                            else:\n",
    "            #                     \n",
    "                                store_to_list =  items[\"children\"][0][\"anon\"], items[\"children\"][0][\"subject\"], items[\"children\"][0][\"created\"], items[\"children\"][0][\"bucket_order\"], items[\"children\"][0][\"bucket_name\"], items[\"children\"][0][\"type\"], items[\"children\"][0].get(\"uid_a\", None), items[\"children\"][0].get(\"uid\", None), items[\"children\"][0][\"id\"], items[\"children\"][0][\"updated\"], items[\"children\"][0][\"config\"], assign_list\n",
    "#                                 print(store_to_list)\n",
    "                                list_po.append(list(store_to_list))\n",
    "                        else:\n",
    "            #                 print(\"no dictionry!!!!!!!!!!!!!!!!!\", items[\"children\"])\n",
    "                            continue\n",
    "                    else:\n",
    "            #             print(\"children is empty\", items[\"children\"])\n",
    "                        continue\n",
    "                else:\n",
    "    #                 print(\"To do if there is history\")\n",
    "    #                 print(items[\"history\"][0].keys())\n",
    "                    continue\n",
    "            else:\n",
    "        #         print(\"no dictionry\")\n",
    "                continue\n",
    "\n",
    "    #         print(\"\\n\\n\")\n",
    "        #     break\n",
    "        except:\n",
    "            continue\n",
    "    return data_frame, list_po"
   ]
  },
  {
   "cell_type": "code",
   "execution_count": 8,
   "metadata": {},
   "outputs": [],
   "source": [
    "columns_name = [\"anon_ch\",\"subject_ch\", \"created_ch\", \"bucket_order_ch\", \"bucket_name_ch\", \"type_ch\", \"uid_a_ch\", \"uid_ch\", \"id_ch\", \"updated_ch\", \"config_ch\", \"assignment\"]"
   ]
  },
  {
   "cell_type": "code",
   "execution_count": null,
   "metadata": {},
   "outputs": [],
   "source": []
  },
  {
   "cell_type": "code",
   "execution_count": 9,
   "metadata": {},
   "outputs": [],
   "source": [
    "def compute_dataframe(temp_list, cids_list_values, class_id):\n",
    "    string_assig = []\n",
    "    for cids in cids_list_values:\n",
    "#         print(cids)\n",
    "        time.sleep(0.2)\n",
    "        try:\n",
    "            posts = get_posts(str(class_id), cids)\n",
    "        except:\n",
    "            continue\n",
    "        \n",
    "#         string_assig.append(get_assignemnet(posts))\n",
    "            \n",
    "        df = pd.DataFrame(dict([ (k,pd.Series(v)) for k,v in posts.items() ]));\n",
    "        try:\n",
    "            df, temp_list = compute_list(df, temp_list)\n",
    "        except:\n",
    "            continue\n",
    "            \n",
    "    temp_df = pd.DataFrame(columns=columns_name, data=temp_list)\n",
    "    \n",
    "#     temp_df[\"assignment\"] = string_assig\n",
    "    return temp_df, temp_list"
   ]
  },
  {
   "cell_type": "code",
   "execution_count": null,
   "metadata": {},
   "outputs": [],
   "source": []
  },
  {
   "cell_type": "markdown",
   "metadata": {},
   "source": [
    "# RL Fall 2018"
   ]
  },
  {
   "cell_type": "code",
   "execution_count": 10,
   "metadata": {},
   "outputs": [],
   "source": [
    "list_cid = list(range(8000))\n",
    "# list_cid = [114, 66]"
   ]
  },
  {
   "cell_type": "code",
   "execution_count": 11,
   "metadata": {},
   "outputs": [],
   "source": [
    "assignment_List_of_post = []"
   ]
  },
  {
   "cell_type": "code",
   "execution_count": 12,
   "metadata": {},
   "outputs": [
    {
     "name": "stderr",
     "output_type": "stream",
     "text": [
      "<ipython-input-9-11dd209cb9d7>:13: DeprecationWarning: The default dtype for empty Series will be 'object' instead of 'float64' in a future version. Specify a dtype explicitly to silence this warning.\n",
      "  df = pd.DataFrame(dict([ (k,pd.Series(v)) for k,v in posts.items() ]));\n"
     ]
    },
    {
     "name": "stdout",
     "output_type": "stream",
     "text": [
      "--- 8191.175145626068 seconds ---\n"
     ]
    }
   ],
   "source": [
    "import time\n",
    "start_time = time.time()\n",
    "RL_df_one, assignment_List_of_post = compute_dataframe(assignment_List_of_post, list_cid, \"jl0wfj4bb1x4yc\"); #RLfall2018\n",
    "\n",
    "print(\"--- %s seconds ---\" % (time.time() - start_time))"
   ]
  },
  {
   "cell_type": "code",
   "execution_count": 13,
   "metadata": {},
   "outputs": [
    {
     "data": {
      "text/plain": [
       "(2792, 12)"
      ]
     },
     "execution_count": 13,
     "metadata": {},
     "output_type": "execute_result"
    }
   ],
   "source": [
    "RL_df_one.shape"
   ]
  },
  {
   "cell_type": "code",
   "execution_count": 14,
   "metadata": {},
   "outputs": [
    {
     "data": {
      "text/html": [
       "<div>\n",
       "<style scoped>\n",
       "    .dataframe tbody tr th:only-of-type {\n",
       "        vertical-align: middle;\n",
       "    }\n",
       "\n",
       "    .dataframe tbody tr th {\n",
       "        vertical-align: top;\n",
       "    }\n",
       "\n",
       "    .dataframe thead th {\n",
       "        text-align: right;\n",
       "    }\n",
       "</style>\n",
       "<table border=\"1\" class=\"dataframe\">\n",
       "  <thead>\n",
       "    <tr style=\"text-align: right;\">\n",
       "      <th></th>\n",
       "      <th>anon_ch</th>\n",
       "      <th>subject_ch</th>\n",
       "      <th>created_ch</th>\n",
       "      <th>bucket_order_ch</th>\n",
       "      <th>bucket_name_ch</th>\n",
       "      <th>type_ch</th>\n",
       "      <th>uid_a_ch</th>\n",
       "      <th>uid_ch</th>\n",
       "      <th>id_ch</th>\n",
       "      <th>updated_ch</th>\n",
       "      <th>config_ch</th>\n",
       "      <th>assignment</th>\n",
       "    </tr>\n",
       "  </thead>\n",
       "  <tbody>\n",
       "    <tr>\n",
       "      <th>366</th>\n",
       "      <td>no</td>\n",
       "      <td>&lt;p&gt;See &amp;#64;34 if you expand that definition o...</td>\n",
       "      <td>2018-08-26T11:39:58Z</td>\n",
       "      <td>116</td>\n",
       "      <td>Week 8/26 - 9/1</td>\n",
       "      <td>feedback</td>\n",
       "      <td>None</td>\n",
       "      <td>hz0ht1wd4bt</td>\n",
       "      <td>jlas7q3rfzw3zg</td>\n",
       "      <td>2018-08-26T11:39:58Z</td>\n",
       "      <td>{}</td>\n",
       "      <td>other</td>\n",
       "    </tr>\n",
       "    <tr>\n",
       "      <th>397</th>\n",
       "      <td>no</td>\n",
       "      <td>&lt;p&gt;Are we going to consider changing Infinite ...</td>\n",
       "      <td>2018-08-27T04:47:40Z</td>\n",
       "      <td>116</td>\n",
       "      <td>Week 8/26 - 9/1</td>\n",
       "      <td>followup</td>\n",
       "      <td>None</td>\n",
       "      <td>i4g6i16rBNI</td>\n",
       "      <td>jlbsxcly44z4n0</td>\n",
       "      <td>2018-08-27T04:47:40Z</td>\n",
       "      <td>{}</td>\n",
       "      <td>other</td>\n",
       "    </tr>\n",
       "  </tbody>\n",
       "</table>\n",
       "</div>"
      ],
      "text/plain": [
       "    anon_ch                                         subject_ch  \\\n",
       "366      no  <p>See &#64;34 if you expand that definition o...   \n",
       "397      no  <p>Are we going to consider changing Infinite ...   \n",
       "\n",
       "               created_ch  bucket_order_ch   bucket_name_ch   type_ch  \\\n",
       "366  2018-08-26T11:39:58Z              116  Week 8/26 - 9/1  feedback   \n",
       "397  2018-08-27T04:47:40Z              116  Week 8/26 - 9/1  followup   \n",
       "\n",
       "    uid_a_ch       uid_ch           id_ch            updated_ch config_ch  \\\n",
       "366     None  hz0ht1wd4bt  jlas7q3rfzw3zg  2018-08-26T11:39:58Z        {}   \n",
       "397     None  i4g6i16rBNI  jlbsxcly44z4n0  2018-08-27T04:47:40Z        {}   \n",
       "\n",
       "    assignment  \n",
       "366      other  \n",
       "397      other  "
      ]
     },
     "execution_count": 14,
     "metadata": {},
     "output_type": "execute_result"
    }
   ],
   "source": [
    "RL_df_one.sample(2)"
   ]
  },
  {
   "cell_type": "code",
   "execution_count": 15,
   "metadata": {},
   "outputs": [],
   "source": [
    "RL_df_one.to_csv(\"RLFall2018.csv\")"
   ]
  },
  {
   "cell_type": "code",
   "execution_count": 16,
   "metadata": {},
   "outputs": [
    {
     "data": {
      "text/plain": [
       "other        467\n",
       "logistics    366\n",
       "project1     364\n",
       "project3     295\n",
       "project2     241\n",
       "hw1          239\n",
       "hw2          223\n",
       "exam         212\n",
       "hw3          169\n",
       "hw4          105\n",
       "hw5           66\n",
       "hw6           45\n",
       "Name: assignment, dtype: int64"
      ]
     },
     "execution_count": 16,
     "metadata": {},
     "output_type": "execute_result"
    }
   ],
   "source": [
    "RL_df_one.assignment.value_counts()"
   ]
  },
  {
   "cell_type": "markdown",
   "metadata": {},
   "source": [
    "# RL Fall 2019"
   ]
  },
  {
   "cell_type": "code",
   "execution_count": 17,
   "metadata": {},
   "outputs": [],
   "source": [
    "list_cid = list(range(8000))\n",
    "# list_cid = [1157]"
   ]
  },
  {
   "cell_type": "code",
   "execution_count": 18,
   "metadata": {},
   "outputs": [],
   "source": [
    "assignment_List_of_post_two = []"
   ]
  },
  {
   "cell_type": "code",
   "execution_count": 19,
   "metadata": {},
   "outputs": [
    {
     "name": "stderr",
     "output_type": "stream",
     "text": [
      "<ipython-input-9-11dd209cb9d7>:13: DeprecationWarning: The default dtype for empty Series will be 'object' instead of 'float64' in a future version. Specify a dtype explicitly to silence this warning.\n",
      "  df = pd.DataFrame(dict([ (k,pd.Series(v)) for k,v in posts.items() ]));\n"
     ]
    },
    {
     "name": "stdout",
     "output_type": "stream",
     "text": [
      "--- 8195.20196723938 seconds ---\n"
     ]
    }
   ],
   "source": [
    "import time\n",
    "start_time = time.time()\n",
    "RL_df_two, assignment_List_of_post_two = compute_dataframe(assignment_List_of_post_two, list_cid, \"jzh9tkzzxkd7ph\"); #RLfall2018\n",
    "\n",
    "print(\"--- %s seconds ---\" % (time.time() - start_time))"
   ]
  },
  {
   "cell_type": "code",
   "execution_count": 20,
   "metadata": {},
   "outputs": [
    {
     "data": {
      "text/plain": [
       "(5154, 12)"
      ]
     },
     "execution_count": 20,
     "metadata": {},
     "output_type": "execute_result"
    }
   ],
   "source": [
    "RL_df_two.shape"
   ]
  },
  {
   "cell_type": "code",
   "execution_count": 21,
   "metadata": {},
   "outputs": [
    {
     "data": {
      "text/html": [
       "<div>\n",
       "<style scoped>\n",
       "    .dataframe tbody tr th:only-of-type {\n",
       "        vertical-align: middle;\n",
       "    }\n",
       "\n",
       "    .dataframe tbody tr th {\n",
       "        vertical-align: top;\n",
       "    }\n",
       "\n",
       "    .dataframe thead th {\n",
       "        text-align: right;\n",
       "    }\n",
       "</style>\n",
       "<table border=\"1\" class=\"dataframe\">\n",
       "  <thead>\n",
       "    <tr style=\"text-align: right;\">\n",
       "      <th></th>\n",
       "      <th>anon_ch</th>\n",
       "      <th>subject_ch</th>\n",
       "      <th>created_ch</th>\n",
       "      <th>bucket_order_ch</th>\n",
       "      <th>bucket_name_ch</th>\n",
       "      <th>type_ch</th>\n",
       "      <th>uid_a_ch</th>\n",
       "      <th>uid_ch</th>\n",
       "      <th>id_ch</th>\n",
       "      <th>updated_ch</th>\n",
       "      <th>config_ch</th>\n",
       "      <th>assignment</th>\n",
       "    </tr>\n",
       "  </thead>\n",
       "  <tbody>\n",
       "    <tr>\n",
       "      <th>3622</th>\n",
       "      <td>no</td>\n",
       "      <td>&lt;p&gt;Sometimes called a &amp;#39;Markov Reward Proce...</td>\n",
       "      <td>2019-11-05T03:49:36Z</td>\n",
       "      <td>20</td>\n",
       "      <td>Week 11/3 - 11/9</td>\n",
       "      <td>feedback</td>\n",
       "      <td>None</td>\n",
       "      <td>jzfsa4a37jf4aq</td>\n",
       "      <td>k2lbe8u0apj3fh</td>\n",
       "      <td>2019-11-05T03:49:36Z</td>\n",
       "      <td>{}</td>\n",
       "      <td>final_exam</td>\n",
       "    </tr>\n",
       "    <tr>\n",
       "      <th>3058</th>\n",
       "      <td>no</td>\n",
       "      <td>&lt;p&gt;Do a grid search over your parameters to se...</td>\n",
       "      <td>2019-10-22T13:56:49Z</td>\n",
       "      <td>33</td>\n",
       "      <td>Week 10/20 - 10/26</td>\n",
       "      <td>followup</td>\n",
       "      <td>None</td>\n",
       "      <td>jc554vxmyuy3pt</td>\n",
       "      <td>k21wx6x4iuw3fh</td>\n",
       "      <td>2019-10-22T13:56:49Z</td>\n",
       "      <td>{}</td>\n",
       "      <td>project2</td>\n",
       "    </tr>\n",
       "  </tbody>\n",
       "</table>\n",
       "</div>"
      ],
      "text/plain": [
       "     anon_ch                                         subject_ch  \\\n",
       "3622      no  <p>Sometimes called a &#39;Markov Reward Proce...   \n",
       "3058      no  <p>Do a grid search over your parameters to se...   \n",
       "\n",
       "                created_ch  bucket_order_ch      bucket_name_ch   type_ch  \\\n",
       "3622  2019-11-05T03:49:36Z               20    Week 11/3 - 11/9  feedback   \n",
       "3058  2019-10-22T13:56:49Z               33  Week 10/20 - 10/26  followup   \n",
       "\n",
       "     uid_a_ch          uid_ch           id_ch            updated_ch config_ch  \\\n",
       "3622     None  jzfsa4a37jf4aq  k2lbe8u0apj3fh  2019-11-05T03:49:36Z        {}   \n",
       "3058     None  jc554vxmyuy3pt  k21wx6x4iuw3fh  2019-10-22T13:56:49Z        {}   \n",
       "\n",
       "      assignment  \n",
       "3622  final_exam  \n",
       "3058    project2  "
      ]
     },
     "execution_count": 21,
     "metadata": {},
     "output_type": "execute_result"
    }
   ],
   "source": [
    "RL_df_two.sample(2)"
   ]
  },
  {
   "cell_type": "code",
   "execution_count": 22,
   "metadata": {},
   "outputs": [],
   "source": [
    "RL_df_two.to_csv(\"RLFall2019.csv\")"
   ]
  },
  {
   "cell_type": "code",
   "execution_count": 23,
   "metadata": {},
   "outputs": [
    {
     "data": {
      "text/plain": [
       "project2        722\n",
       "project1        645\n",
       "project3        616\n",
       "other           549\n",
       "hw1             505\n",
       "hw3             425\n",
       "logistics       372\n",
       "final_exam      360\n",
       "hw2             288\n",
       "review          223\n",
       "office_hours    159\n",
       "hw4             128\n",
       "hw5             116\n",
       "hw6              46\n",
       "Name: assignment, dtype: int64"
      ]
     },
     "execution_count": 23,
     "metadata": {},
     "output_type": "execute_result"
    }
   ],
   "source": [
    "RL_df_two.assignment.value_counts()"
   ]
  },
  {
   "cell_type": "code",
   "execution_count": 68,
   "metadata": {},
   "outputs": [
    {
     "data": {
      "image/png": "[encoded data removed]",
      "text/plain": [
       "<Figure size 432x288 with 1 Axes>"
      ]
     },
     "metadata": {
      "needs_background": "light"
     },
     "output_type": "display_data"
    }
   ],
   "source": [
    "RL_df_two.uid_a_ch.value_counts().plot(kind=\"barh\");"
   ]
  },
  {
   "cell_type": "code",
   "execution_count": 72,
   "metadata": {},
   "outputs": [
    {
     "data": {
      "text/plain": [
       "295"
      ]
     },
     "execution_count": 72,
     "metadata": {},
     "output_type": "execute_result"
    }
   ],
   "source": [
    "len(RL_df_two.uid_ch.unique())"
   ]
  },
  {
   "cell_type": "code",
   "execution_count": 73,
   "metadata": {},
   "outputs": [
    {
     "data": {
      "text/plain": [
       "5154"
      ]
     },
     "execution_count": 73,
     "metadata": {},
     "output_type": "execute_result"
    }
   ],
   "source": [
    "len(RL_df_two.id_ch.unique())"
   ]
  },
  {
   "cell_type": "code",
   "execution_count": 59,
   "metadata": {},
   "outputs": [],
   "source": [
    "# RL_df_two[RL_df_two[\"uid_a_ch\"] != \"None\"]"
   ]
  },
  {
   "cell_type": "code",
   "execution_count": 60,
   "metadata": {},
   "outputs": [],
   "source": [
    "# RL_df_two[RL_df_two[\"uid_ch\"] == \"hyx9thiqa6j4nn\"]"
   ]
  },
  {
   "cell_type": "code",
   "execution_count": null,
   "metadata": {},
   "outputs": [],
   "source": []
  }
 ],
 "metadata": {
  "kernelspec": {
   "display_name": "Python 3",
   "language": "python",
   "name": "python3"
  },
  "language_info": {
   "codemirror_mode": {
    "name": "ipython",
    "version": 3
   },
   "file_extension": ".py",
   "mimetype": "text/x-python",
   "name": "python",
   "nbconvert_exporter": "python",
   "pygments_lexer": "ipython3",
   "version": "3.8.3"
  }
 },
 "nbformat": 4,
 "nbformat_minor": 4
}
