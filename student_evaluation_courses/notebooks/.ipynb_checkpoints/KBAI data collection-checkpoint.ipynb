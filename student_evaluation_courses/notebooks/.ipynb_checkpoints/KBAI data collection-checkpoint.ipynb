{
 "cells": [
  {
   "cell_type": "code",
   "execution_count": 1,
   "metadata": {},
   "outputs": [],
   "source": [
    "from piazza_api.rpc import PiazzaRPC\n",
    "import pandas as pd\n",
    "import json\n",
    "import re\n",
    "import os\n",
    "from html2text import HTML2Text\n",
    "from html2text import HTML2Text\n",
    "from piazza_api import Piazza\n",
    "import json\n",
    "import re\n",
    "import os\n",
    "from html2text import HTML2Text\n",
    "from piazza_api import Piazza\n",
    "\n",
    "HTML_2_TEXT = HTML2Text()\n",
    "HTML_2_TEXT.ignore_links = True\n",
    "import time\n",
    "import numpy as np"
   ]
  },
  {
   "cell_type": "code",
   "execution_count": 2,
   "metadata": {},
   "outputs": [],
   "source": [
    "# instructors = {\"\":\"Gardner, Benjamin Joseph\", \"\", \"Matthew Gordon McKinzie\", \"jl2r7x4fZCA8\":\"Aja Woolworth\", \"\":\"Maria Konte\", \"\":\"Willy Nolan\", \"\":\"David Kim\", \"\":\"Jeffrey Randow\", \"\":\"matt kalita sr\", \"\":\"Max Umland\", \"\":\"Cody Tessler\", \"\":\"Kevin\", \"jc2nyihn8CRW\":\"James Lohse\", \"\":\"Ken Westdorp\", \"\":\"Sahil Dhingra\", \"\":\"Jared Scott\", \"\":\"Lorena Lara Montesinos\", \"\":\"Minh Jennifer Van\", \"\":\"Swetha Mandala\", \"\":\"Vaishnavi Anupindi\", \"\":\"Johann Lau\", \"\":\"Vivek Verma\", \"\":\"Damodara Venkat Gadidasu\"}"
   ]
  },
  {
   "cell_type": "code",
   "execution_count": null,
   "metadata": {},
   "outputs": [],
   "source": []
  },
  {
   "cell_type": "code",
   "execution_count": 3,
   "metadata": {
    "scrolled": false
   },
   "outputs": [],
   "source": [
    "\n",
    "def get_posts(nid, cid):\n",
    "\n",
    "    HTML_2_TEXT = HTML2Text()\n",
    "    HTML_2_TEXT.ignore_links = True\n",
    "\n",
    "    EMAIL = None\n",
    "    PASSWORD = None\n",
    "\n",
    "    if os.path.exists('credentials.json'):\n",
    "        with open('credentials.json') as f:\n",
    "            credentials = json.load(f)\n",
    "            EMAIL = credentials.get('email', None)\n",
    "            PASSWORD = credentials.get('password', None)\n",
    "\n",
    "\n",
    "    p = PiazzaRPC(nid)\n",
    "    p.user_login(email=EMAIL, password=PASSWORD)\n",
    "\n",
    "    return p.content_get(cid)"
   ]
  },
  {
   "cell_type": "code",
   "execution_count": 4,
   "metadata": {},
   "outputs": [],
   "source": [
    "# test = get_posts(\"k4yililupx61yj\", 1227)"
   ]
  },
  {
   "cell_type": "code",
   "execution_count": 5,
   "metadata": {},
   "outputs": [],
   "source": [
    "# df.history[0].keys()"
   ]
  },
  {
   "cell_type": "code",
   "execution_count": 6,
   "metadata": {},
   "outputs": [],
   "source": [
    "# columns_name = ['anon', 'uid', 'subject', 'created', 'content', \"anon_ch\",\"subject_ch\", \"created_ch\", \"bucket_order_ch\", \"bucket_name_ch\", \"type_ch\", \"uid_a_ch\", \"uid_ch\", \"id_ch\", \"updated_ch\", \"config_ch\"]"
   ]
  },
  {
   "cell_type": "code",
   "execution_count": null,
   "metadata": {},
   "outputs": [],
   "source": []
  },
  {
   "cell_type": "code",
   "execution_count": null,
   "metadata": {},
   "outputs": [],
   "source": []
  },
  {
   "cell_type": "code",
   "execution_count": 7,
   "metadata": {
    "scrolled": false
   },
   "outputs": [],
   "source": [
    "def compute_list(data_frame, list_po):\n",
    "    \n",
    "    assign_list = \"\"\n",
    "    try:\n",
    "        assign_list = data_frame[\"folders\"][0]\n",
    "#         print(data_frame[\"folders\"][0])\n",
    "    except:\n",
    "        assign_list = np.nan\n",
    "#         print(np.nan, data_frame[\"folders\"][0])\n",
    "    for items in data_frame[\"children\"]:\n",
    "        try:\n",
    "            \n",
    "            if(isinstance(items, dict)):\n",
    "                if(\"history\" not in items.keys()):\n",
    "    #             print(items.keys())\n",
    "                    store_to_list = items[\"anon\"], items[\"subject\"], items[\"created\"],items[\"bucket_order\"],items[\"bucket_name\"], items[\"type\"], items.get(\"uid_a\", None), items.get(\"uid\", None), items[\"id\"], items[\"updated\"],items[\"config\"], assign_list\n",
    "#                     print(store_to_list)\n",
    "                    list_po.append(list(store_to_list))\n",
    "                    if(len(items[\"children\"])):\n",
    "            #             print(\"children not empty@@@@@@@@@@@@@@\")\n",
    "                        if(isinstance(items, dict)):\n",
    "                            if(len(items[\"children\"]) > 1):\n",
    "                                for item_list in items[\"children\"]:\n",
    "        #                             print(\"debug\")\n",
    "                                    store_to_list = item_list[\"anon\"], item_list[\"subject\"], item_list[\"created\"], item_list[\"bucket_order\"], item_list[\"bucket_name\"], item_list[\"type\"], item_list.get(\"uid_a\", None), item_list.get(\"uid\", None), item_list[\"id\"], item_list[\"updated\"], item_list[\"config\"], assign_list\n",
    "#                                     print(store_to_list)\n",
    "                                    list_po.append(list(store_to_list))\n",
    "\n",
    "            #                         print(\"\\n6666666666\")\n",
    "                            else:\n",
    "            #                     \n",
    "                                store_to_list =  items[\"children\"][0][\"anon\"], items[\"children\"][0][\"subject\"], items[\"children\"][0][\"created\"], items[\"children\"][0][\"bucket_order\"], items[\"children\"][0][\"bucket_name\"], items[\"children\"][0][\"type\"], items[\"children\"][0].get(\"uid_a\", None), items[\"children\"][0].get(\"uid\", None), items[\"children\"][0][\"id\"], items[\"children\"][0][\"updated\"], items[\"children\"][0][\"config\"], assign_list\n",
    "#                                 print(store_to_list)\n",
    "                                list_po.append(list(store_to_list))\n",
    "                        else:\n",
    "            #                 print(\"no dictionry!!!!!!!!!!!!!!!!!\", items[\"children\"])\n",
    "                            continue\n",
    "                    else:\n",
    "            #             print(\"children is empty\", items[\"children\"])\n",
    "                        continue\n",
    "                else:\n",
    "    #                 print(\"To do if there is history\")\n",
    "    #                 print(items[\"history\"][0].keys())\n",
    "                    continue\n",
    "            else:\n",
    "        #         print(\"no dictionry\")\n",
    "                continue\n",
    "\n",
    "    #         print(\"\\n\\n\")\n",
    "        #     break\n",
    "        except:\n",
    "            continue\n",
    "    return data_frame, list_po"
   ]
  },
  {
   "cell_type": "code",
   "execution_count": null,
   "metadata": {},
   "outputs": [],
   "source": []
  },
  {
   "cell_type": "code",
   "execution_count": 8,
   "metadata": {},
   "outputs": [],
   "source": [
    "columns_name = [\"anon_ch\",\"subject_ch\", \"created_ch\", \"bucket_order_ch\", \"bucket_name_ch\", \"type_ch\", \"uid_a_ch\", \"uid_ch\", \"id_ch\", \"updated_ch\", \"config_ch\", \"assignment\"]"
   ]
  },
  {
   "cell_type": "code",
   "execution_count": null,
   "metadata": {},
   "outputs": [],
   "source": []
  },
  {
   "cell_type": "code",
   "execution_count": null,
   "metadata": {},
   "outputs": [],
   "source": []
  },
  {
   "cell_type": "code",
   "execution_count": 9,
   "metadata": {
    "scrolled": false
   },
   "outputs": [],
   "source": [
    "def compute_dataframe(temp_list, cids_list_values, class_id):\n",
    "    string_assig = []\n",
    "    for cids in cids_list_values:\n",
    "#         print(cids)\n",
    "        time.sleep(0.2)\n",
    "        try:\n",
    "            posts = get_posts(str(class_id), cids)\n",
    "        except:\n",
    "            continue\n",
    "        \n",
    "#         string_assig.append(get_assignemnet(posts))\n",
    "            \n",
    "        df = pd.DataFrame(dict([ (k,pd.Series(v)) for k,v in posts.items() ]));\n",
    "        try:\n",
    "            df, temp_list = compute_list(df, temp_list)\n",
    "        except:\n",
    "            continue\n",
    "            \n",
    "    temp_df = pd.DataFrame(columns=columns_name, data=temp_list)\n",
    "    \n",
    "#     temp_df[\"assignment\"] = string_assig\n",
    "    return temp_df, temp_list"
   ]
  },
  {
   "cell_type": "code",
   "execution_count": null,
   "metadata": {},
   "outputs": [],
   "source": []
  },
  {
   "cell_type": "markdown",
   "metadata": {},
   "source": [
    "# KBAI Data"
   ]
  },
  {
   "cell_type": "code",
   "execution_count": 10,
   "metadata": {},
   "outputs": [],
   "source": [
    "list_cid = list(range(8000))"
   ]
  },
  {
   "cell_type": "code",
   "execution_count": 11,
   "metadata": {},
   "outputs": [],
   "source": [
    "# print(list_cid)"
   ]
  },
  {
   "cell_type": "code",
   "execution_count": 12,
   "metadata": {},
   "outputs": [],
   "source": [
    "proj1_List_of_post = []"
   ]
  },
  {
   "cell_type": "code",
   "execution_count": null,
   "metadata": {
    "scrolled": true
   },
   "outputs": [
    {
     "name": "stderr",
     "output_type": "stream",
     "text": [
      "<ipython-input-9-11dd209cb9d7>:13: DeprecationWarning: The default dtype for empty Series will be 'object' instead of 'float64' in a future version. Specify a dtype explicitly to silence this warning.\n",
      "  df = pd.DataFrame(dict([ (k,pd.Series(v)) for k,v in posts.items() ]));\n"
     ]
    }
   ],
   "source": [
    "import time\n",
    "start_time = time.time()\n",
    "df_final_projKBAI, proj1_List_of_post = compute_dataframe(proj1_List_of_post, list_cid, \"k4yililupx61yj\");\n",
    "\n",
    "print(\"--- %s seconds ---\" % (time.time() - start_time))"
   ]
  },
  {
   "cell_type": "code",
   "execution_count": null,
   "metadata": {
    "scrolled": false
   },
   "outputs": [],
   "source": [
    "df_final_projKBAI.shape"
   ]
  },
  {
   "cell_type": "code",
   "execution_count": null,
   "metadata": {
    "scrolled": false
   },
   "outputs": [],
   "source": [
    "df_final_projKBAI.sample(2)"
   ]
  },
  {
   "cell_type": "code",
   "execution_count": null,
   "metadata": {},
   "outputs": [],
   "source": [
    "df_final_projKBAI.to_csv(\"KBAIDATASET.csv\")"
   ]
  },
  {
   "cell_type": "code",
   "execution_count": null,
   "metadata": {},
   "outputs": [],
   "source": [
    "df_final_projKBAI.assignment.value_counts()"
   ]
  },
  {
   "cell_type": "code",
   "execution_count": null,
   "metadata": {},
   "outputs": [],
   "source": [
    "df_final_projKBAI.shape"
   ]
  },
  {
   "cell_type": "markdown",
   "metadata": {},
   "source": [
    "# Eductech Data"
   ]
  },
  {
   "cell_type": "code",
   "execution_count": null,
   "metadata": {},
   "outputs": [],
   "source": [
    "list_cid = list(range(8000))"
   ]
  },
  {
   "cell_type": "code",
   "execution_count": null,
   "metadata": {},
   "outputs": [],
   "source": [
    "proj1_List_of_post = []"
   ]
  },
  {
   "cell_type": "code",
   "execution_count": null,
   "metadata": {},
   "outputs": [],
   "source": [
    "import time\n",
    "start_time = time.time()\n",
    "df_final_projEDUTECH, proj1_List_of_post = compute_dataframe(proj1_List_of_post, list_cid, \"k9x9jhmlaml2gb\");\n",
    "\n",
    "print(\"--- %s seconds ---\" % (time.time() - start_time))"
   ]
  },
  {
   "cell_type": "code",
   "execution_count": null,
   "metadata": {},
   "outputs": [],
   "source": [
    "df_final_projEDUTECH.shape"
   ]
  },
  {
   "cell_type": "code",
   "execution_count": null,
   "metadata": {},
   "outputs": [],
   "source": [
    "df_final_projEDUTECH.sample(2)"
   ]
  },
  {
   "cell_type": "code",
   "execution_count": null,
   "metadata": {},
   "outputs": [],
   "source": [
    "df_final_projEDUTECH.to_csv(\"EDUCTECH.csv\")"
   ]
  },
  {
   "cell_type": "code",
   "execution_count": null,
   "metadata": {},
   "outputs": [],
   "source": [
    "df_final_projEDUTECH.assignment.value_counts()"
   ]
  },
  {
   "cell_type": "markdown",
   "metadata": {},
   "source": [
    "# AI for Robotics Data"
   ]
  },
  {
   "cell_type": "code",
   "execution_count": null,
   "metadata": {},
   "outputs": [],
   "source": [
    "list_cid = list(range(8000))"
   ]
  },
  {
   "cell_type": "code",
   "execution_count": null,
   "metadata": {},
   "outputs": [],
   "source": [
    "proj1_List_of_post = []"
   ]
  },
  {
   "cell_type": "code",
   "execution_count": null,
   "metadata": {},
   "outputs": [],
   "source": [
    "import time\n",
    "start_time = time.time()\n",
    "df_final_projAIR, proj1_List_of_post = compute_dataframe(proj1_List_of_post, list_cid, \"k52r6ajrvqw5k\");\n",
    "\n",
    "print(\"--- %s seconds ---\" % (time.time() - start_time))"
   ]
  },
  {
   "cell_type": "code",
   "execution_count": null,
   "metadata": {},
   "outputs": [],
   "source": [
    "df_final_projAIR.shape"
   ]
  },
  {
   "cell_type": "code",
   "execution_count": null,
   "metadata": {},
   "outputs": [],
   "source": [
    "df_final_projAIR.sample(2)"
   ]
  },
  {
   "cell_type": "code",
   "execution_count": null,
   "metadata": {},
   "outputs": [],
   "source": [
    "df_final_projAIR.to_csv(\"AIROBoTICS.csv\")"
   ]
  },
  {
   "cell_type": "code",
   "execution_count": null,
   "metadata": {},
   "outputs": [],
   "source": [
    "df_final_projAIR.assignment.value_counts()"
   ]
  },
  {
   "cell_type": "markdown",
   "metadata": {},
   "source": [
    "# AI ETHICS Data"
   ]
  },
  {
   "cell_type": "code",
   "execution_count": null,
   "metadata": {},
   "outputs": [],
   "source": [
    "list_cid = list(range(8000))"
   ]
  },
  {
   "cell_type": "code",
   "execution_count": null,
   "metadata": {},
   "outputs": [],
   "source": [
    "proj1_List_of_post = []"
   ]
  },
  {
   "cell_type": "code",
   "execution_count": null,
   "metadata": {},
   "outputs": [],
   "source": [
    "import time\n",
    "start_time = time.time()\n",
    "df_final_projAIR, proj1_List_of_post = compute_dataframe(proj1_List_of_post, list_cid, \"k91rsovprey4y\");\n",
    "\n",
    "print(\"--- %s seconds ---\" % (time.time() - start_time))"
   ]
  },
  {
   "cell_type": "code",
   "execution_count": null,
   "metadata": {},
   "outputs": [],
   "source": [
    "df_final_projAIR.shape"
   ]
  },
  {
   "cell_type": "code",
   "execution_count": null,
   "metadata": {},
   "outputs": [],
   "source": [
    "df_final_projAIR.sample(2)"
   ]
  },
  {
   "cell_type": "code",
   "execution_count": null,
   "metadata": {},
   "outputs": [],
   "source": [
    "df_final_projAIR.to_csv(\"AIETHICS.csv\")"
   ]
  },
  {
   "cell_type": "code",
   "execution_count": null,
   "metadata": {},
   "outputs": [],
   "source": [
    "df_final_projAIR.assignment.value_counts()"
   ]
  },
  {
   "cell_type": "code",
   "execution_count": null,
   "metadata": {},
   "outputs": [],
   "source": []
  },
  {
   "cell_type": "code",
   "execution_count": null,
   "metadata": {},
   "outputs": [],
   "source": []
  }
 ],
 "metadata": {
  "kernelspec": {
   "display_name": "Python 3",
   "language": "python",
   "name": "python3"
  },
  "language_info": {
   "codemirror_mode": {
    "name": "ipython",
    "version": 3
   },
   "file_extension": ".py",
   "mimetype": "text/x-python",
   "name": "python",
   "nbconvert_exporter": "python",
   "pygments_lexer": "ipython3",
   "version": "3.8.3"
  }
 },
 "nbformat": 4,
 "nbformat_minor": 4
}
