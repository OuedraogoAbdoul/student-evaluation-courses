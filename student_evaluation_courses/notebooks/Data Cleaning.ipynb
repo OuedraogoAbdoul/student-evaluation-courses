{
 "cells": [
  {
   "cell_type": "code",
   "execution_count": null,
   "metadata": {},
   "outputs": [],
   "source": []
  },
  {
   "cell_type": "code",
   "execution_count": 1,
   "metadata": {},
   "outputs": [],
   "source": [
    "import os\n",
    "import sys\n",
    "from emot.emo_unicode import UNICODE_EMO, EMOTICONS\n",
    "import re\n",
    "# Import pandas to read the file \n",
    "import pandas as pd\n",
    "import numpy as np"
   ]
  },
  {
   "cell_type": "markdown",
   "metadata": {},
   "source": [
    "# Load data"
   ]
  },
  {
   "cell_type": "code",
   "execution_count": 2,
   "metadata": {},
   "outputs": [],
   "source": [
    "file_name = \"RLFall2019.csv\""
   ]
  },
  {
   "cell_type": "code",
   "execution_count": 3,
   "metadata": {},
   "outputs": [
    {
     "data": {
      "text/html": [
       "<div>\n",
       "<style scoped>\n",
       "    .dataframe tbody tr th:only-of-type {\n",
       "        vertical-align: middle;\n",
       "    }\n",
       "\n",
       "    .dataframe tbody tr th {\n",
       "        vertical-align: top;\n",
       "    }\n",
       "\n",
       "    .dataframe thead th {\n",
       "        text-align: right;\n",
       "    }\n",
       "</style>\n",
       "<table border=\"1\" class=\"dataframe\">\n",
       "  <thead>\n",
       "    <tr style=\"text-align: right;\">\n",
       "      <th></th>\n",
       "      <th>Unnamed: 0</th>\n",
       "      <th>anon_ch</th>\n",
       "      <th>subject_ch</th>\n",
       "      <th>created_ch</th>\n",
       "      <th>bucket_order_ch</th>\n",
       "      <th>bucket_name_ch</th>\n",
       "      <th>type_ch</th>\n",
       "      <th>uid_a_ch</th>\n",
       "      <th>uid_ch</th>\n",
       "      <th>id_ch</th>\n",
       "      <th>updated_ch</th>\n",
       "      <th>config_ch</th>\n",
       "      <th>assignment</th>\n",
       "    </tr>\n",
       "  </thead>\n",
       "  <tbody>\n",
       "    <tr>\n",
       "      <th>0</th>\n",
       "      <td>0</td>\n",
       "      <td>no</td>\n",
       "      <td>&lt;p&gt;My name is Todd Neal, I&amp;#39;m from Kentucky...</td>\n",
       "      <td>2019-08-19 23:08:17+00:00</td>\n",
       "      <td>34</td>\n",
       "      <td>Week 8/18 - 8/24</td>\n",
       "      <td>followup</td>\n",
       "      <td>NaN</td>\n",
       "      <td>jzhl7qlwrpagr</td>\n",
       "      <td>jzj0fvskoah19g</td>\n",
       "      <td>2019-08-19T23:08:17Z</td>\n",
       "      <td>{}</td>\n",
       "      <td>logistics</td>\n",
       "    </tr>\n",
       "    <tr>\n",
       "      <th>1</th>\n",
       "      <td>1</td>\n",
       "      <td>no</td>\n",
       "      <td>&lt;p&gt;Welcome to the class and the program!&lt;/p&gt;</td>\n",
       "      <td>2019-08-19 23:14:04+00:00</td>\n",
       "      <td>34</td>\n",
       "      <td>Week 8/18 - 8/24</td>\n",
       "      <td>feedback</td>\n",
       "      <td>NaN</td>\n",
       "      <td>hyx9thiqa6j4nn</td>\n",
       "      <td>jzj0nbi02e74fv</td>\n",
       "      <td>2019-08-19T23:14:04Z</td>\n",
       "      <td>{}</td>\n",
       "      <td>logistics</td>\n",
       "    </tr>\n",
       "    <tr>\n",
       "      <th>2</th>\n",
       "      <td>2</td>\n",
       "      <td>no</td>\n",
       "      <td>&lt;p&gt;Welcome Todd!  You will find there are a lo...</td>\n",
       "      <td>2019-08-20 11:05:43+00:00</td>\n",
       "      <td>34</td>\n",
       "      <td>Week 8/18 - 8/24</td>\n",
       "      <td>feedback</td>\n",
       "      <td>NaN</td>\n",
       "      <td>idfzuuu9fnI</td>\n",
       "      <td>jzjq2i4e8de2fh</td>\n",
       "      <td>2019-08-20T11:05:43Z</td>\n",
       "      <td>{}</td>\n",
       "      <td>logistics</td>\n",
       "    </tr>\n",
       "  </tbody>\n",
       "</table>\n",
       "</div>"
      ],
      "text/plain": [
       "   Unnamed: 0 anon_ch                                         subject_ch  \\\n",
       "0           0      no  <p>My name is Todd Neal, I&#39;m from Kentucky...   \n",
       "1           1      no       <p>Welcome to the class and the program!</p>   \n",
       "2           2      no  <p>Welcome Todd!  You will find there are a lo...   \n",
       "\n",
       "                 created_ch  bucket_order_ch    bucket_name_ch   type_ch  \\\n",
       "0 2019-08-19 23:08:17+00:00               34  Week 8/18 - 8/24  followup   \n",
       "1 2019-08-19 23:14:04+00:00               34  Week 8/18 - 8/24  feedback   \n",
       "2 2019-08-20 11:05:43+00:00               34  Week 8/18 - 8/24  feedback   \n",
       "\n",
       "  uid_a_ch          uid_ch           id_ch            updated_ch config_ch  \\\n",
       "0      NaN   jzhl7qlwrpagr  jzj0fvskoah19g  2019-08-19T23:08:17Z        {}   \n",
       "1      NaN  hyx9thiqa6j4nn  jzj0nbi02e74fv  2019-08-19T23:14:04Z        {}   \n",
       "2      NaN     idfzuuu9fnI  jzjq2i4e8de2fh  2019-08-20T11:05:43Z        {}   \n",
       "\n",
       "  assignment  \n",
       "0  logistics  \n",
       "1  logistics  \n",
       "2  logistics  "
      ]
     },
     "execution_count": 3,
     "metadata": {},
     "output_type": "execute_result"
    }
   ],
   "source": [
    "rl_fall_2018 = pd.read_csv(file_name, parse_dates=[\"created_ch\", \"bucket_name_ch\"]);rl_fall_2018.head(3)"
   ]
  },
  {
   "cell_type": "code",
   "execution_count": 4,
   "metadata": {},
   "outputs": [
    {
     "data": {
      "text/plain": [
       "array(['{}'], dtype=object)"
      ]
     },
     "execution_count": 4,
     "metadata": {},
     "output_type": "execute_result"
    }
   ],
   "source": [
    "rl_fall_2018.config_ch.unique()"
   ]
  },
  {
   "cell_type": "code",
   "execution_count": null,
   "metadata": {},
   "outputs": [],
   "source": []
  },
  {
   "cell_type": "markdown",
   "metadata": {},
   "source": [
    "# Clean the data"
   ]
  },
  {
   "cell_type": "markdown",
   "metadata": {},
   "source": [
    "## remove unwanted columns"
   ]
  },
  {
   "cell_type": "code",
   "execution_count": 5,
   "metadata": {},
   "outputs": [],
   "source": [
    "def remove_unwanted_columns(df):\n",
    "    \"\"\"\n",
    "    Remove unncessary columns\n",
    "    \n",
    "    ARgs:\n",
    "        df: take dataframe as imput\n",
    "    Return dataframe\n",
    "    \"\"\"\n",
    "    \n",
    "    return df.drop(columns=[\"Unnamed: 0\", \"config_ch\"], axis=1)\n",
    "    "
   ]
  },
  {
   "cell_type": "code",
   "execution_count": 6,
   "metadata": {},
   "outputs": [],
   "source": [
    "rl_fall2018_unwanted_remove = remove_unwanted_columns(rl_fall_2018)"
   ]
  },
  {
   "cell_type": "code",
   "execution_count": 7,
   "metadata": {},
   "outputs": [],
   "source": [
    "rl_fall2018_unwanted_remove[\"weeks\"] = rl_fall2018_unwanted_remove['created_ch'].dt.week"
   ]
  },
  {
   "cell_type": "code",
   "execution_count": null,
   "metadata": {},
   "outputs": [],
   "source": []
  },
  {
   "cell_type": "code",
   "execution_count": 8,
   "metadata": {},
   "outputs": [],
   "source": [
    "# def convert_emoticons(text):\n",
    "#     for emot in EMOTICONS:\n",
    "#         text = re.sub(u'('+emot+')', \"_\".join(EMOTICONS[emot].replace(\",\",\"\").split()), text)\n",
    "#     return text"
   ]
  },
  {
   "cell_type": "code",
   "execution_count": 9,
   "metadata": {},
   "outputs": [],
   "source": [
    "# rl_fall2018_unwanted_remove.subject_ch = rl_fall2018_unwanted_remove.subject_ch.map(lambda x: convert_emoticons(str(x)))"
   ]
  },
  {
   "cell_type": "code",
   "execution_count": null,
   "metadata": {},
   "outputs": [],
   "source": []
  },
  {
   "cell_type": "code",
   "execution_count": 10,
   "metadata": {},
   "outputs": [],
   "source": [
    "def replace_week_numbers(df):\n",
    "    \"\"\"\n",
    "    functiion that change week number from 1 to 19\n",
    "    \"\"\"\n",
    "    \n",
    "    return sorted(df.weeks.unique())"
   ]
  },
  {
   "cell_type": "code",
   "execution_count": 11,
   "metadata": {},
   "outputs": [],
   "source": [
    "rl_fall2018_unwanted_remove[\"weeks_num\"] = rl_fall2018_unwanted_remove[\"weeks\"].map(lambda x: replace_week_numbers(rl_fall2018_unwanted_remove).index(x)+1 if(x in replace_week_numbers(rl_fall2018_unwanted_remove)) else np.nan)"
   ]
  },
  {
   "cell_type": "code",
   "execution_count": null,
   "metadata": {},
   "outputs": [],
   "source": []
  },
  {
   "cell_type": "code",
   "execution_count": 12,
   "metadata": {},
   "outputs": [],
   "source": [
    "def remove_special_caracters(df):\n",
    "    chars_spec = [\"!\", \"<p>\", \"#\", \"&\", \"</p>\", \"<div>\",\n",
    "                 \"\\n\", \"<blockquote>\"]\n",
    "    \n",
    "    return  df.replace(to_replace = chars_spec, value = \"\", regex = True)"
   ]
  },
  {
   "cell_type": "code",
   "execution_count": 13,
   "metadata": {},
   "outputs": [],
   "source": [
    "rl_fall2018_unwanted_remove = remove_special_caracters(rl_fall2018_unwanted_remove)"
   ]
  },
  {
   "cell_type": "code",
   "execution_count": 17,
   "metadata": {},
   "outputs": [
    {
     "data": {
      "text/plain": [
       "project1    645\n",
       "Name: assignment, dtype: int64"
      ]
     },
     "execution_count": 17,
     "metadata": {},
     "output_type": "execute_result"
    }
   ],
   "source": [
    "rl_fall2018_unwanted_remove[rl_fall2018_unwanted_remove.assignment == \"project1\"].assignment.value_counts()"
   ]
  },
  {
   "cell_type": "code",
   "execution_count": null,
   "metadata": {},
   "outputs": [],
   "source": []
  },
  {
   "cell_type": "code",
   "execution_count": 16,
   "metadata": {},
   "outputs": [
    {
     "data": {
      "text/html": [
       "<div>\n",
       "<style scoped>\n",
       "    .dataframe tbody tr th:only-of-type {\n",
       "        vertical-align: middle;\n",
       "    }\n",
       "\n",
       "    .dataframe tbody tr th {\n",
       "        vertical-align: top;\n",
       "    }\n",
       "\n",
       "    .dataframe thead th {\n",
       "        text-align: right;\n",
       "    }\n",
       "</style>\n",
       "<table border=\"1\" class=\"dataframe\">\n",
       "  <thead>\n",
       "    <tr style=\"text-align: right;\">\n",
       "      <th></th>\n",
       "      <th>anon_ch</th>\n",
       "      <th>subject_ch</th>\n",
       "      <th>created_ch</th>\n",
       "      <th>bucket_order_ch</th>\n",
       "      <th>bucket_name_ch</th>\n",
       "      <th>type_ch</th>\n",
       "      <th>uid_a_ch</th>\n",
       "      <th>uid_ch</th>\n",
       "      <th>id_ch</th>\n",
       "      <th>updated_ch</th>\n",
       "      <th>assignment</th>\n",
       "      <th>weeks</th>\n",
       "      <th>weeks_num</th>\n",
       "    </tr>\n",
       "  </thead>\n",
       "  <tbody>\n",
       "    <tr>\n",
       "      <th>1967</th>\n",
       "      <td>no</td>\n",
       "      <td>As a side note, if you don39;t want to clone t...</td>\n",
       "      <td>2019-09-29 19:06:07+00:00</td>\n",
       "      <td>39</td>\n",
       "      <td>Week 9/29 - 10/5</td>\n",
       "      <td>followup</td>\n",
       "      <td>NaN</td>\n",
       "      <td>ixty1midfufhd</td>\n",
       "      <td>k15cudpcdco15o</td>\n",
       "      <td>2019-09-29T19:06:07Z</td>\n",
       "      <td>hw4</td>\n",
       "      <td>39</td>\n",
       "      <td>6</td>\n",
       "    </tr>\n",
       "    <tr>\n",
       "      <th>2771</th>\n",
       "      <td>no</td>\n",
       "      <td>Correct, I39;m still terminating at 200, but I...</td>\n",
       "      <td>2019-10-13 23:34:52+00:00</td>\n",
       "      <td>30</td>\n",
       "      <td>Week 10/13 - 10/19</td>\n",
       "      <td>feedback</td>\n",
       "      <td>NaN</td>\n",
       "      <td>jl284xdcifz44g</td>\n",
       "      <td>k1pmlx1g3szjm</td>\n",
       "      <td>2019-10-13T23:34:52Z</td>\n",
       "      <td>project2</td>\n",
       "      <td>41</td>\n",
       "      <td>8</td>\n",
       "    </tr>\n",
       "  </tbody>\n",
       "</table>\n",
       "</div>"
      ],
      "text/plain": [
       "     anon_ch                                         subject_ch  \\\n",
       "1967      no  As a side note, if you don39;t want to clone t...   \n",
       "2771      no  Correct, I39;m still terminating at 200, but I...   \n",
       "\n",
       "                    created_ch  bucket_order_ch      bucket_name_ch   type_ch  \\\n",
       "1967 2019-09-29 19:06:07+00:00               39    Week 9/29 - 10/5  followup   \n",
       "2771 2019-10-13 23:34:52+00:00               30  Week 10/13 - 10/19  feedback   \n",
       "\n",
       "     uid_a_ch          uid_ch           id_ch            updated_ch  \\\n",
       "1967      NaN   ixty1midfufhd  k15cudpcdco15o  2019-09-29T19:06:07Z   \n",
       "2771      NaN  jl284xdcifz44g   k1pmlx1g3szjm  2019-10-13T23:34:52Z   \n",
       "\n",
       "     assignment  weeks  weeks_num  \n",
       "1967        hw4     39          6  \n",
       "2771   project2     41          8  "
      ]
     },
     "execution_count": 16,
     "metadata": {},
     "output_type": "execute_result"
    }
   ],
   "source": [
    "rl_fall2018_unwanted_remove.sample(2)"
   ]
  },
  {
   "cell_type": "code",
   "execution_count": null,
   "metadata": {},
   "outputs": [],
   "source": []
  },
  {
   "cell_type": "code",
   "execution_count": null,
   "metadata": {},
   "outputs": [],
   "source": []
  },
  {
   "cell_type": "code",
   "execution_count": null,
   "metadata": {},
   "outputs": [],
   "source": []
  }
 ],
 "metadata": {
  "kernelspec": {
   "display_name": "Python 3",
   "language": "python",
   "name": "python3"
  },
  "language_info": {
   "codemirror_mode": {
    "name": "ipython",
    "version": 3
   },
   "file_extension": ".py",
   "mimetype": "text/x-python",
   "name": "python",
   "nbconvert_exporter": "python",
   "pygments_lexer": "ipython3",
   "version": "3.8.3"
  }
 },
 "nbformat": 4,
 "nbformat_minor": 4
}
